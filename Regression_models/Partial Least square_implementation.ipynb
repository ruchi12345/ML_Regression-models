{
 "cells": [
  {
   "cell_type": "markdown",
   "metadata": {},
   "source": [
    "# Partial Least square Regression"
   ]
  },
  {
   "cell_type": "markdown",
   "metadata": {},
   "source": [
    "Partial least squares regression is an extension of the multiple linear regression model (see, e.g., Multiple Regression or General Stepwise Regression). In its simplest form, a linear model specifies the (linear) relationship between a dependent (response) variable Y, and a set of predictor variables, the X's, so that\n",
    "\n",
    "Y = b0 + b1X1 + b2X2 + ... + bpXp\n",
    "\n",
    "In this equation b0 is the regression coefficient for the intercept and the bi values are the regression coefficients (for variables 1 through p) computed from the data.\n",
    "\n",
    "So for example, you could estimate (i.e., predict) a person's weight as a function of the person's height and gender. You could use linear regression to estimate the respective regression coefficients from a sample of data, measuring height, weight, and observing the subjects' gender. For many data analysis problems, estimates of the linear relationships between variables are adequate to describe the observed data, and to make reasonable predictions for new observations (see Multiple Regression or General Stepwise Regression for additional details).\n"
   ]
  },
  {
   "cell_type": "markdown",
   "metadata": {},
   "source": [
    "Import libraries"
   ]
  },
  {
   "cell_type": "code",
   "execution_count": 4,
   "metadata": {},
   "outputs": [],
   "source": [
    "import numpy as np\n",
    "import pandas as pd\n",
    "import matplotlib.pyplot as plt\n",
    "from sklearn.cross_decomposition import PLSRegression\n",
    "from sklearn.model_selection import train_test_split\n",
    "from sklearn import metrics\n",
    "from sklearn.metrics import r2_score"
   ]
  },
  {
   "cell_type": "markdown",
   "metadata": {},
   "source": [
    "import dataset"
   ]
  },
  {
   "cell_type": "code",
   "execution_count": 6,
   "metadata": {},
   "outputs": [
    {
     "name": "stdout",
     "output_type": "stream",
     "text": [
      "239\n"
     ]
    }
   ],
   "source": [
    "dataset = pd.read_csv('/home/webtunix/Desktop/Regression/random.csv')\n",
    "print(len(dataset))"
   ]
  },
  {
   "cell_type": "markdown",
   "metadata": {},
   "source": [
    "Split dataset into x and y"
   ]
  },
  {
   "cell_type": "code",
   "execution_count": 7,
   "metadata": {},
   "outputs": [],
   "source": [
    "x = dataset.iloc[:,1:4].values\n",
    "y = dataset.iloc[:,4].values"
   ]
  },
  {
   "cell_type": "markdown",
   "metadata": {},
   "source": [
    "Split training and testing sets"
   ]
  },
  {
   "cell_type": "code",
   "execution_count": 8,
   "metadata": {},
   "outputs": [],
   "source": [
    "X_train, X_test, y_train, y_test = train_test_split(x, y, test_size = 0.3)"
   ]
  },
  {
   "cell_type": "code",
   "execution_count": 9,
   "metadata": {},
   "outputs": [
    {
     "data": {
      "text/plain": [
       "0.9999464738814361"
      ]
     },
     "execution_count": 9,
     "metadata": {},
     "output_type": "execute_result"
    }
   ],
   "source": [
    "model =PLSRegression(n_components=2)\n",
    "model.fit(X_train,y_train)\n",
    "model.score(X_train,y_train)"
   ]
  },
  {
   "cell_type": "markdown",
   "metadata": {},
   "source": [
    "Predict the values"
   ]
  },
  {
   "cell_type": "code",
   "execution_count": 11,
   "metadata": {},
   "outputs": [
    {
     "name": "stdout",
     "output_type": "stream",
     "text": [
      "[[0.52371821]\n",
      " [0.52377654]\n",
      " [0.52243441]\n",
      " [0.52407664]\n",
      " [0.52361818]\n",
      " [0.49430843]\n",
      " [0.52377654]\n",
      " [0.52441844]\n",
      " [0.52361818]\n",
      " [0.52311801]\n",
      " [0.52431841]\n",
      " [0.52377654]\n",
      " [0.52421838]\n",
      " [0.52461851]\n",
      " [0.52371821]\n",
      " [0.52311801]\n",
      " [0.52331808]\n",
      " [0.52391828]\n",
      " [0.51807465]\n",
      " [0.52467684]\n",
      " [0.52341811]\n",
      " [0.52403494]\n",
      " [0.52512005]\n",
      " [0.52367651]\n",
      " [0.52377654]\n",
      " [0.52344025]\n",
      " [0.52531874]\n",
      " [0.52527704]\n",
      " [0.52461851]\n",
      " [0.52371821]\n",
      " [0.52461851]\n",
      " [0.52381824]\n",
      " [0.52491998]\n",
      " [0.52277759]\n",
      " [0.52351814]\n",
      " [0.52531874]\n",
      " [0.52421838]\n",
      " [0.53002306]\n",
      " [0.52327638]\n",
      " [0.52371821]\n",
      " [0.51851648]\n",
      " [0.52387658]\n",
      " [0.52429334]\n",
      " [0.52431841]\n",
      " [0.52361955]\n",
      " [0.52278171]\n",
      " [0.52291932]\n",
      " [0.49659233]\n",
      " [0.52261784]\n",
      " [0.49010703]\n",
      " [0.52371821]\n",
      " [0.52461851]\n",
      " [0.52351952]\n",
      " [0.52411972]\n",
      " [0.52373484]\n",
      " [0.52351952]\n",
      " [0.52377654]\n",
      " [0.52521871]\n",
      " [0.52431841]\n",
      " [0.52411834]\n",
      " [0.52391828]\n",
      " [0.52461851]\n",
      " [0.52507698]\n",
      " [0.52322768]\n",
      " [0.52407664]\n",
      " [0.52351952]\n",
      " [0.49308984]\n",
      " [0.52361955]\n",
      " [0.49278561]\n",
      " [0.52411972]\n",
      " [0.52251781]\n",
      " [0.49280793]]\n"
     ]
    }
   ],
   "source": [
    "pred = model.predict(X_test)\n",
    "print(pred)"
   ]
  },
  {
   "cell_type": "markdown",
   "metadata": {},
   "source": [
    "Accuracy of model"
   ]
  },
  {
   "cell_type": "code",
   "execution_count": 12,
   "metadata": {},
   "outputs": [
    {
     "name": "stdout",
     "output_type": "stream",
     "text": [
      "('Accuracy:', 0.9999412169179661)\n"
     ]
    }
   ],
   "source": [
    "print(\"Accuracy:\",r2_score(y_test,pred))"
   ]
  },
  {
   "cell_type": "markdown",
   "metadata": {},
   "source": [
    "Plotting the scatter graph of actual values and predicting values"
   ]
  },
  {
   "cell_type": "code",
   "execution_count": 22,
   "metadata": {},
   "outputs": [
    {
     "data": {
      "image/png": "[encoded data removed]",
      "text/plain": [
       "<Figure size 432x288 with 1 Axes>"
      ]
     },
     "metadata": {
      "needs_background": "light"
     },
     "output_type": "display_data"
    }
   ],
   "source": [
    "plt.scatter(y_test,pred,color=['red','orange'])\n",
    "#plot x and y lables\n",
    "plt.xlabel('x')\n",
    "plt.ylabel('y')\n",
    "#plot title \n",
    "plt.title('Partial Least square Regression')\n",
    "plt.show()"
   ]
  },
  {
   "cell_type": "markdown",
   "metadata": {},
   "source": [
    "# Research Infinite Solutions LLP\n",
    "by Research Infinite Solutions  (https://www.ris-ai.com//)\n",
    "\n",
    "Permission is hereby granted, free of charge, to any person obtaining a copy of this software and associated documentation files (the \"Software\"), to deal in the Software without restriction, including without limitation the rights to use, copy, modify, merge, publish, distribute, sublicense, and/or sell copies of the Software, and to permit persons to whom the Software is furnished to do so, subject to the following conditions:\n",
    "\n",
    "The above copyright notice and this permission notice shall be included in all copies or substantial portions of the Software.\n",
    "\n",
    "THE SOFTWARE IS PROVIDED \"AS IS\", WITHOUT WARRANTY OF ANY KIND, EXPRESS OR IMPLIED, INCLUDING BUT NOT LIMITED TO THE WARRANTIES OF MERCHANTABILITY, FITNESS FOR A PARTICULAR PURPOSE AND NONINFRINGEMENT. IN NO EVENT SHALL THE AUTHORS OR COPYRIGHT HOLDERS BE LIABLE FOR ANY CLAIM, DAMAGES OR OTHER LIABILITY, WHETHER IN AN ACTION OF CONTRACT, TORT OR OTHERWISE, ARISING FROM, OUT OF OR IN CONNECTION WITH THE SOFTWARE OR THE USE OR OTHER DEALINGS IN THE SOFTWARE."
   ]
  },
  {
   "cell_type": "code",
   "execution_count": null,
   "metadata": {},
   "outputs": [],
   "source": []
  }
 ],
 "metadata": {
  "kernelspec": {
   "display_name": "Python 2",
   "language": "python",
   "name": "python2"
  },
  "language_info": {
   "codemirror_mode": {
    "name": "ipython",
    "version": 2
   },
   "file_extension": ".py",
   "mimetype": "text/x-python",
   "name": "python",
   "nbconvert_exporter": "python",
   "pygments_lexer": "ipython2",
   "version": "2.7.12"
  }
 },
 "nbformat": 4,
 "nbformat_minor": 2
}
