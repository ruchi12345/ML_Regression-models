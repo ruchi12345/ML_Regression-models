{
 "cells": [
  {
   "cell_type": "markdown",
   "metadata": {},
   "source": [
    "# SUPPORT VECTOR REGRESSOR"
   ]
  },
  {
   "cell_type": "markdown",
   "metadata": {},
   "source": [
    "“Support Vector Machine”(SVM) is supervised machine learning algorithm,\n",
    "which is used for classification or regression problem.\n",
    "\n",
    "The main purpose of support vector machine is to find the hyperplane in  N-dimensional space\n",
    "that distinctly classifies the data points.To separate the two classes of data points, there are many possible hyperplanes that could be chosen..The points near to the hyperplane is support vectors we have to create the maximum margin between the hyperplane and support vectors"
   ]
  },
  {
   "cell_type": "markdown",
   "metadata": {},
   "source": [
    "import libraries"
   ]
  },
  {
   "cell_type": "code",
   "execution_count": 9,
   "metadata": {},
   "outputs": [],
   "source": [
    "import numpy as np\n",
    "import matplotlib.pyplot as plt\n",
    "from sklearn import svm\n",
    "from sklearn.svm import SVR\n",
    "from sklearn.model_selection import train_test_split\n",
    "import pandas as pd\n",
    "from sklearn import metrics\n",
    "from sklearn.metrics import r2_score"
   ]
  },
  {
   "cell_type": "markdown",
   "metadata": {},
   "source": [
    "importing the dataset"
   ]
  },
  {
   "cell_type": "code",
   "execution_count": 10,
   "metadata": {},
   "outputs": [
    {
     "name": "stdout",
     "output_type": "stream",
     "text": [
      "239\n"
     ]
    }
   ],
   "source": [
    "dataset = pd.read_csv('/home/webtunix/Desktop/regression/random.csv')\n",
    "print(len(dataset))"
   ]
  },
  {
   "cell_type": "markdown",
   "metadata": {},
   "source": [
    "Splitting data into two sets x and y I select all rows and three columns for x and all rows and fourth column for the y and y is target value "
   ]
  },
  {
   "cell_type": "code",
   "execution_count": 11,
   "metadata": {},
   "outputs": [],
   "source": [
    "x = dataset.iloc[:,1:4].values\n",
    "y = dataset.iloc[:,4].values\n"
   ]
  },
  {
   "cell_type": "markdown",
   "metadata": {},
   "source": [
    "Splitting the training and testing sets"
   ]
  },
  {
   "cell_type": "code",
   "execution_count": 12,
   "metadata": {},
   "outputs": [],
   "source": [
    "X_train, X_test, y_train, y_test = train_test_split(x, y, test_size = 0.3)"
   ]
  },
  {
   "cell_type": "markdown",
   "metadata": {},
   "source": [
    "Apply Support Vector Regression"
   ]
  },
  {
   "cell_type": "code",
   "execution_count": 13,
   "metadata": {},
   "outputs": [
    {
     "name": "stdout",
     "output_type": "stream",
     "text": [
      "[0.51477236 0.51483547 0.5148607  0.51491119 0.51477552 0.51473137\n",
      " 0.51477869 0.51479129 0.51477869 0.51480708 0.51467459 0.51478499\n",
      " 0.51479762 0.51477236 0.51474397 0.51480708 0.51489226 0.51479762\n",
      " 0.51487333 0.51191095 0.51480076 0.51481655 0.51478499 0.51471874\n",
      " 0.51475973 0.51478815 0.51478177 0.51488593 0.51480708 0.51479762\n",
      " 0.51492695 0.51484494 0.51483231 0.51479129 0.51478815 0.51484177\n",
      " 0.51478183 0.51490486 0.51479445 0.51478815 0.51478499 0.51478499\n",
      " 0.51488593 0.51482915 0.51481021 0.51187324 0.51477869 0.51429603\n",
      " 0.5147755  0.51466194 0.51483547 0.51487333 0.51478183 0.51494588\n",
      " 0.51487333 0.51481968 0.51476287 0.51493958 0.51490172 0.51477236\n",
      " 0.51488279 0.51537492 0.51193003 0.51187324 0.51490172 0.51478183\n",
      " 0.51481655 0.51479129 0.51473446 0.51187324 0.51478183 0.51189214]\n"
     ]
    }
   ],
   "source": [
    "model=svm.SVR(kernel='rbf', C=100.0, gamma=0.0004, epsilon= 0.01)\n",
    "#simply fit the values of x tarin and y tarin\n",
    "model.fit(X_train, y_train)\n",
    "model.score(X_train,y_train)\n",
    "pred=model.predict(X_test)\n",
    "print(pred)"
   ]
  },
  {
   "cell_type": "markdown",
   "metadata": {},
   "source": [
    " I simply fit  the model on x_tarin and y_train and\n",
    " above are the predicted values"
   ]
  },
  {
   "cell_type": "markdown",
   "metadata": {},
   "source": [
    " Find the Accuracy of model"
   ]
  },
  {
   "cell_type": "code",
   "execution_count": 14,
   "metadata": {},
   "outputs": [
    {
     "name": "stdout",
     "output_type": "stream",
     "text": [
      "('Accuracy:', -0.44275853576101887)\n"
     ]
    }
   ],
   "source": [
    "print(\"Accuracy:\",r2_score(y_test,pred))"
   ]
  },
  {
   "cell_type": "markdown",
   "metadata": {},
   "source": [
    "Plotting the scatter graph of actual values and predicting values"
   ]
  },
  {
   "cell_type": "code",
   "execution_count": 15,
   "metadata": {},
   "outputs": [
    {
     "data": {
      "image/png": "[encoded data removed]",
      "text/plain": [
       "<Figure size 432x288 with 1 Axes>"
      ]
     },
     "metadata": {
      "needs_background": "light"
     },
     "output_type": "display_data"
    }
   ],
   "source": [
    "colors = np.random.rand(72)\n",
    "#plot target and predicted values\n",
    "plt.scatter(colors,y_test, c='blue',label='target')\n",
    "plt.scatter(colors,pred, c='green',label='predicted')\n",
    "\n",
    "#plot x and y lables\n",
    "plt.xlabel('x')\n",
    "plt.ylabel('y')\n",
    "#plot title \n",
    "plt.title('SVM Regression')\n",
    "plt.legend()\n",
    "plt.show()"
   ]
  },
  {
   "cell_type": "markdown",
   "metadata": {},
   "source": [
    "# Research Infinite Solutions LLP\n",
    "by Research Infinite Solutions\n",
    "\n",
    "Permission is hereby granted, free of charge, to any person obtaining a copy of this software and associated documentation files (the \"Software\"), to deal in the Software without restriction, including without limitation the rights to use, copy, modify, merge, publish, distribute, sublicense, and/or sell copies of the Software, and to permit persons to whom the Software is furnished to do so, subject to the following conditions:\n",
    "\n",
    "The above copyright notice and this permission notice shall be included in all copies or substantial portions of the Software.\n",
    "\n",
    "THE SOFTWARE IS PROVIDED \"AS IS\", WITHOUT WARRANTY OF ANY KIND, EXPRESS OR IMPLIED, INCLUDING BUT NOT LIMITED TO THE WARRANTIES OF MERCHANTABILITY, FITNESS FOR A PARTICULAR PURPOSE AND NONINFRINGEMENT. IN NO EVENT SHALL THE AUTHORS OR COPYRIGHT HOLDERS BE LIABLE FOR ANY CLAIM, DAMAGES OR OTHER LIABILITY, WHETHER IN AN ACTION OF CONTRACT, TORT OR OTHERWISE, ARISING FROM, OUT OF OR IN CONNECTION WITH THE SOFTWARE OR THE USE OR OTHER DEALINGS IN THE SOFTWARE."
   ]
  },
  {
   "cell_type": "code",
   "execution_count": null,
   "metadata": {},
   "outputs": [],
   "source": []
  }
 ],
 "metadata": {
  "kernelspec": {
   "display_name": "Python 2",
   "language": "python",
   "name": "python2"
  },
  "language_info": {
   "codemirror_mode": {
    "name": "ipython",
    "version": 2
   },
   "file_extension": ".py",
   "mimetype": "text/x-python",
   "name": "python",
   "nbconvert_exporter": "python",
   "pygments_lexer": "ipython2",
   "version": "2.7.12"
  }
 },
 "nbformat": 4,
 "nbformat_minor": 2
}
